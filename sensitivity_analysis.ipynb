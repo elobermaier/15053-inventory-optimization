{
 "cells": [
  {
   "cell_type": "code",
   "execution_count": 1,
   "metadata": {},
   "outputs": [
    {
     "name": "stderr",
     "output_type": "stream",
     "text": [
      "┌ Info: Precompiling CSV [336ed68f-0bac-5ca0-87d4-7b16caf5d00b]\n",
      "└ @ Base loading.jl:1273\n",
      "┌ Info: Precompiling JuMP [4076af6c-e467-56ae-b986-b466b2749572]\n",
      "└ @ Base loading.jl:1273\n"
     ]
    },
    {
     "name": "stdout",
     "output_type": "stream",
     "text": [
      "thread = 1 warning: only found 3 / 4 columns on data row: 35. Filling remaining columns with `missing`\n"
     ]
    },
    {
     "data": {
      "text/plain": [
       "1000000"
      ]
     },
     "execution_count": 1,
     "metadata": {},
     "output_type": "execute_result"
    }
   ],
   "source": [
    "using CSV, JuMP\n",
    "\n",
    "avg_demand = CSV.read(\"AverageDemandForecast.csv\")\n",
    "\n",
    "lb_demand = CSV.read(\"LowerBoundDemandForecast.csv\")\n",
    "\n",
    "ub_demand = CSV.read(\"UpperBoundDemandForecast.csv\")\n",
    "\n",
    "old_max_prod = CSV.read(\"MaxProductionCapacity.csv\")\n",
    "max_prod = old_max_prod[1:34,:] #clip useless last row\n",
    "\n",
    "weeks = names(avg_demand)[2:length(names(avg_demand))] #keys are Symbols not int so be careful!\n",
    "\n",
    "\"\"\"\n",
    "prod_dict maps product name (str from csv) to a dict w/keys:\n",
    "\"biweekly_replenishment\" (in pallets)\n",
    "\"prod_capac\" (pallets)\n",
    "\"units_per_pallet\" (pallets)\n",
    "\"avg_dem_week_x\" average demand on week x for x in weeks array (skips so be careful!)\n",
    "\"lb_dem_week_x\" lower bound demand forecast on week x for x in weeks array\n",
    "\"ub_dem_week_x\" upper bound demand forecast on week x for x in weeks array\n",
    "\"type\" string, what category of product\n",
    "\"late_cost\", late cost per unit of a certain product (dependent on its category)\n",
    "\n",
    "NOTE1:\n",
    "Get lower bound demand forecast for \"Pampers Diapers\" on week 51:\n",
    ">> prod_dict[\"Pampers Diapers\"][string(\"lb_dem_week_51\")]\n",
    "\n",
    "Get lower bound demand forecast for \"Pampers Diapers\" on week x:\n",
    ">> prod_dict[\"Pampers Diapers\"][string(\"lb_dem_week_\", x)]\n",
    "\"\"\"\n",
    "#late order cost per unit for diff product types = 2x retail val\n",
    "late_cost = Dict(\"baby\" => 100, \"fabric\" => 40, \"family\"=> 20, \"fem\" => 15, \"grooming\" => 40, \"hair\" => 16, \"home\" => 30, \"oral\" => 90, \"PHC\" => 20, \"skin/personal\" => 80)\n",
    "\n",
    "prod_dict = Dict(max_prod[k,1] => Dict(\"biweekly_replenishment\" => max_prod[k,2], \"prod_capac\" => max_prod[k,3], \"units_per_pallet\" => max_prod[k, 4], \"type\" => \"\") for k in 1:length(max_prod[:,1]))\n",
    "\n",
    "for i in 1:length(max_prod[:,1])\n",
    "    prodname = max_prod[i,1]\n",
    "    for j in weeks\n",
    "        prod_dict[prodname][string(\"avg_dem_week_\", j)] = avg_demand[i,j]\n",
    "        prod_dict[prodname][string(\"lb_dem_week_\", j)] = lb_demand[i,j]\n",
    "        prod_dict[prodname][string(\"ub_dem_week_\", j)] = ub_demand[i,j]\n",
    "        if i in 1:2\n",
    "            prod_dict[prodname][\"type\"] = \"baby\"\n",
    "        elseif i in 3:6\n",
    "            prod_dict[prodname][\"type\"] = \"fabric\"\n",
    "        elseif i in 7:9\n",
    "            prod_dict[prodname][\"type\"] = \"family\"\n",
    "        elseif i in 10:11\n",
    "            prod_dict[prodname][\"type\"] = \"fem\"\n",
    "        elseif i in 12:15\n",
    "            prod_dict[prodname][\"type\"] = \"grooming\"\n",
    "        elseif i in 16:19\n",
    "            prod_dict[prodname][\"type\"] = \"hair\"\n",
    "        elseif i in 20:24\n",
    "            prod_dict[prodname][\"type\"] = \"home\"\n",
    "        elseif i in 25:28\n",
    "            prod_dict[prodname][\"type\"] = \"oral\"\n",
    "        elseif i in 29:30\n",
    "            prod_dict[prodname][\"type\"] = \"PHC\"\n",
    "        elseif i in 31:34\n",
    "            prod_dict[prodname][\"type\"] = \"skin/personal\"\n",
    "        end\n",
    "        prod_dict[prodname][\"late_cost\"] = late_cost[prod_dict[prodname][\"type\"]]\n",
    "    end\n",
    "end\n",
    "\n",
    "#inventory cost (units per day)\n",
    "inv_cost = 0.5\n",
    "\n",
    "#max capacity of distrib center (pallets)\n",
    "distrib_max = 7200\n",
    "\n",
    "#production costs to weeks notice\n",
    "prod_notice = [1, 2, 3, 4, 5]\n",
    "rush_cost = Dict(5 => 0.5, 4 => 1, 3 => 2.50, 2 => 7.50, 1 => 25)\n",
    "\n",
    "infinity = 1000000\n"
   ]
  },
  {
   "cell_type": "code",
   "execution_count": 2,
   "metadata": {},
   "outputs": [
    {
     "name": "stderr",
     "output_type": "stream",
     "text": [
      "┌ Info: Precompiling Distributions [31c24e10-a181-5473-b8eb-7969acd0382f]\n",
      "└ @ Base loading.jl:1273\n"
     ]
    },
    {
     "data": {
      "text/plain": [
       "genDemand (generic function with 1 method)"
      ]
     },
     "execution_count": 2,
     "metadata": {},
     "output_type": "execute_result"
    }
   ],
   "source": [
    "using Random,Distributions\n",
    "\n",
    "#calculates sDev based on 95% conf interval, creates a normal distribution, returns a sample from it\n",
    "function genDemand(lb,ub,avg)\n",
    "    sig = max(avg-lb,ub-avg)/1.96\n",
    "    d = Normal(avg,sig)\n",
    "    round(first(rand(d, 1)))#pulls random number from dist, first() removes the number from a 1 element array, then it's rounded\n",
    "end"
   ]
  },
  {
   "cell_type": "code",
   "execution_count": 3,
   "metadata": {},
   "outputs": [],
   "source": [
    "#Creating Test demand matrix T. For product i on week j, T[i,j] units were demanded\n",
    "T = zeros((34, 52))\n",
    "sigma = zeros((34,52))\n",
    "for i in 1:34\n",
    "    prodname = max_prod[i,1]\n",
    "    for j in 1:52\n",
    "        week = j - ((j-1)%2) #if j is odd, week = j; otherwise, week = j-1\n",
    "        avg = prod_dict[prodname][string(\"avg_dem_week_\", week)]\n",
    "        lb = prod_dict[prodname][string(\"lb_dem_week_\", week)]\n",
    "        ub = prod_dict[prodname][string(\"ub_dem_week_\", week)]\n",
    "        sigma[i,j] = max(avg-lb,ub-avg)/1.96\n",
    "        T[i,j] = genDemand(lb,ub,avg)/2\n",
    "    end\n",
    "end"
   ]
  },
  {
   "cell_type": "code",
   "execution_count": 453,
   "metadata": {},
   "outputs": [],
   "source": [
    "#The goal is to have before each week the avg demand + alpha standard deviations extra.\n",
    "#The optimizer will find the optimal alpha"
   ]
  },
  {
   "cell_type": "code",
   "execution_count": 4,
   "metadata": {},
   "outputs": [
    {
     "data": {
      "text/plain": [
       "0"
      ]
     },
     "execution_count": 4,
     "metadata": {},
     "output_type": "execute_result"
    }
   ],
   "source": [
    "#using CSV, JuMP, Cbc\n",
    "\n",
    "#m = Model(with_optimizer(Cbc.Optimizer, logLevel = 0))\n",
    "alpha = 1\n",
    "\n",
    "\n",
    "incoming = zeros((34,52))\n",
    "left = zeros((34,52))\n",
    "failedCost = 0\n",
    "holdingCost = 0\n",
    "orderCost = 0"
   ]
  },
  {
   "cell_type": "code",
   "execution_count": 7,
   "metadata": {},
   "outputs": [],
   "source": [
    "dem = avg_demand[1:34,2:27]\n",
    "avgDem = zeros((34,52))\n",
    "safetyNeeds = zeros(34,52)\n",
    "for i in 1:34\n",
    "    for j in 1:26\n",
    "        avgDem[i,(2*j)-1] = dem[i,j]\n",
    "        avgDem[i,(2*j)] = dem[i,j]\n",
    "    end\n",
    "end\n",
    "avgDem = 0.5*avgDem\n",
    "\n",
    "poop = 0\n",
    "for i in 1:34\n",
    "    for j in 1:52\n",
    "        safetyNeeds[i,j] = round(avgDem[i,j] + alpha*sigma[i,j])\n",
    "        poop = poop + 3.5*round(alpha*sigma[i,j])\n",
    "    end\n",
    "end\n",
    "\n"
   ]
  },
  {
   "cell_type": "code",
   "execution_count": 8,
   "metadata": {},
   "outputs": [
    {
     "data": {
      "text/plain": [
       "5.0084328e7"
      ]
     },
     "execution_count": 8,
     "metadata": {},
     "output_type": "execute_result"
    }
   ],
   "source": [
    "poop"
   ]
  },
  {
   "cell_type": "code",
   "execution_count": 492,
   "metadata": {},
   "outputs": [],
   "source": [
    "#creates replenish vector and product limit vector\n",
    "replenish = zeros(34)\n",
    "productLimit = zeros(34)\n",
    "unitsPerPallet = max_prod[:,4]\n",
    "pallets = max_prod[:,2]\n",
    "palletLimit = max_prod[:,3]\n",
    "for i in 1:34\n",
    "    replenish[i] = pallets[i]*unitsPerPallet[i]\n",
    "    productLimit[i] = palletLimit[i]*unitsPerPallet[i]\n",
    "end"
   ]
  },
  {
   "cell_type": "code",
   "execution_count": 493,
   "metadata": {},
   "outputs": [
    {
     "data": {
      "text/plain": [
       "relu (generic function with 1 method)"
      ]
     },
     "execution_count": 493,
     "metadata": {},
     "output_type": "execute_result"
    }
   ],
   "source": [
    "function relu(vector)\n",
    "    for i in 1:length(vector)\n",
    "        if vector[i] < 0\n",
    "            vector[i] = 0\n",
    "        end\n",
    "    end\n",
    "end"
   ]
  },
  {
   "cell_type": "code",
   "execution_count": 494,
   "metadata": {},
   "outputs": [],
   "source": [
    "#masterLoop\n",
    "for week in 1:51\n",
    "    #assuming that at the beginning of week, we know demand for the week\n",
    "    if week == 1\n",
    "        begInv = incoming[:,week]\n",
    "    elseif week == 2\n",
    "        failedCost = 0\n",
    "        begInv = left[:,week-1] + incoming[:,week]\n",
    "    else\n",
    "        begInv = left[:,week-1] + incoming[:,week]\n",
    "    end\n",
    "    leftover = begInv - T[:,week]\n",
    "    \n",
    "    #failed cost\n",
    "    for i in 1:34\n",
    "        if leftover[i] <0\n",
    "            failedCost =  failedCost - leftover[i]*late_cost[prod_dict[max_prod[i,1]][\"type\"]]\n",
    "        end\n",
    "    end\n",
    "    \n",
    "    relu(leftover) #mutates leftover to make each entry nonnegative\n",
    "    left[:,week] = leftover\n",
    "    \n",
    "    \n",
    "    #cost of holding inventory\n",
    "    for i in 1:34\n",
    "        holdingCost = holdingCost + 3.50*left[i,week]\n",
    "    end\n",
    "    \n",
    "    \n",
    "    \n",
    "    #needed = demand - left\n",
    "    neededNow = safetyNeeds[:,week+1] - left[:,week]  \n",
    "    orderedNow = zeros(34)\n",
    "    for i in 1:34\n",
    "        if (safetyNeeds[i,week+1] - left[i,week] - incoming[i,week+1] > 0)  \n",
    "            #max production capacity constraint\n",
    "            orderedNow[i] = min(safetyNeeds[i,week+1] - left[i,week] - incoming[i,week+1], replenish[i])\n",
    "            incoming[i,week+1] = orderedNow[i] + incoming[i,week+1]\n",
    "            orderCost = orderCost + orderedNow[i]*rush_cost[1] #cost of ordering\n",
    "        end\n",
    "    end\n",
    "        \n",
    "    orderedForLater = zeros(34)\n",
    "    for j in 2:(52-week) #j represents the number of weeks beyond the current week\n",
    "        for i in 1:34\n",
    "            needed = avgDem[i,week+j]-incoming[i,week+j]\n",
    "            if (needed > 0)\n",
    "                orderedForLater[i] = min(needed, replenish[i] - orderedNow[i])#max production capacity constraint\n",
    "                incoming[i,week+j] = incoming[i,week+j] + orderedForLater[i]\n",
    "                if j <= 5\n",
    "                    orderCost = orderCost + orderedForLater[i]*rush_cost[j] #cost of ordering\n",
    "                else\n",
    "                    orderCost = orderCost + orderedForLater[i]*rush_cost[5]\n",
    "                end\n",
    "                orderedNow[i] = orderedNow[i] + orderedForLater[i]\n",
    "            end\n",
    "        end\n",
    "    end\n",
    "\n",
    "    \n",
    "    \n",
    "end"
   ]
  },
  {
   "cell_type": "code",
   "execution_count": 495,
   "metadata": {},
   "outputs": [
    {
     "name": "stdout",
     "output_type": "stream",
     "text": [
      "1.65398704e8\n"
     ]
    }
   ],
   "source": [
    "println(failedCost + holdingCost + orderCost)"
   ]
  },
  {
   "cell_type": "code",
   "execution_count": 496,
   "metadata": {},
   "outputs": [
    {
     "name": "stdout",
     "output_type": "stream",
     "text": [
      "2.5150925e7\n"
     ]
    }
   ],
   "source": [
    "println(failedCost)"
   ]
  },
  {
   "cell_type": "code",
   "execution_count": 497,
   "metadata": {},
   "outputs": [
    {
     "name": "stdout",
     "output_type": "stream",
     "text": [
      "7.27381585e7\n"
     ]
    }
   ],
   "source": [
    "println(holdingCost)"
   ]
  },
  {
   "cell_type": "code",
   "execution_count": 498,
   "metadata": {},
   "outputs": [
    {
     "name": "stdout",
     "output_type": "stream",
     "text": [
      "6.75096205e7\n"
     ]
    }
   ],
   "source": [
    "println(orderCost)"
   ]
  },
  {
   "cell_type": "code",
   "execution_count": null,
   "metadata": {},
   "outputs": [],
   "source": []
  }
 ],
 "metadata": {
  "kernelspec": {
   "display_name": "Julia 1.3.1",
   "language": "julia",
   "name": "julia-1.3"
  },
  "language_info": {
   "file_extension": ".jl",
   "mimetype": "application/julia",
   "name": "julia",
   "version": "1.3.1"
  }
 },
 "nbformat": 4,
 "nbformat_minor": 4
}

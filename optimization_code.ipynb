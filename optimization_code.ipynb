{
 "cells": [
  {
   "cell_type": "code",
   "execution_count": 135,
   "metadata": {},
   "outputs": [
    {
     "name": "stdout",
     "output_type": "stream",
     "text": [
      "thread = 1 warning: only found 3 / 4 columns on data row: 35. Filling remaining columns with `missing`\n"
     ]
    }
   ],
   "source": [
    "using CSV, JuMP\n",
    "\n",
    "avg_demand = CSV.read(\"AverageDemandForecast.csv\")\n",
    "\n",
    "lb_demand = CSV.read(\"LowerBoundDemandForecast.csv\")\n",
    "\n",
    "ub_demand = CSV.read(\"UpperBoundDemandForecast.csv\")\n",
    "\n",
    "old_max_prod = CSV.read(\"MaxProductionCapacity.csv\")\n",
    "max_prod = old_max_prod[1:34,:] #clip useless last row\n",
    "\n",
    "weeks = names(avg_demand)[2:length(names(avg_demand))] #keys are Symbols not int so be careful!\n",
    "\n",
    "\"\"\"\n",
    "prod_dict maps product name (str from csv) to a dict w/keys:\n",
    "\"biweekly_replenishment\" (in pallets)\n",
    "\"prod_capac\" (pallets)\n",
    "\"units_per_pallet\" (pallets)\n",
    "\"avg_dem_week_x\" average demand on week x for x in weeks array (skips so be careful!)\n",
    "\"lb_dem_week_x\" lower bound demand forecast on week x for x in weeks array\n",
    "\"ub_dem_week_x\" upper bound demand forecast on week x for x in weeks array\n",
    "\n",
    "NOTE:\n",
    "Get lower bound demand forecast for \"Pampers Diapers\" on week 51:\n",
    ">> prod_dict[\"Pampers Diapers\"][string(\"lb_dem_week_51\")]\n",
    "\n",
    "Get lower bound demand forecast for \"Pampers Diapers\" on week x:\n",
    ">> prod_dict[\"Pampers Diapers\"][string(\"lb_dem_week_\", x)]\n",
    "\n",
    "\"\"\"\n",
    "prod_dict = Dict(max_prod[k,1] => Dict(\"biweekly_replenishment\" => max_prod[k,2], \"prod_capac\" => max_prod[k,3], \"units_per_pallet\" => max_prod[k, 4]) for k in 1:length(max_prod[:,1]))\n",
    "\n",
    "for i in 1:length(max_prod[:,1])\n",
    "    for j in weeks\n",
    "        prod_dict[max_prod[i,1]][string(\"avg_dem_week_\", j)] = avg_demand[i,j]\n",
    "        prod_dict[max_prod[i,1]][string(\"lb_dem_week_\", j)] = lb_demand[i,j]\n",
    "        prod_dict[max_prod[i,1]][string(\"ub_dem_week_\", j)] = ub_demand[i,j]\n",
    "    end\n",
    "end\n"
   ]
  },
  {
   "cell_type": "code",
   "execution_count": null,
   "metadata": {},
   "outputs": [],
   "source": []
  },
  {
   "cell_type": "code",
   "execution_count": null,
   "metadata": {},
   "outputs": [],
   "source": []
  }
 ],
 "metadata": {
  "kernelspec": {
   "display_name": "Julia 1.3.1",
   "language": "julia",
   "name": "julia-1.3"
  },
  "language_info": {
   "file_extension": ".jl",
   "mimetype": "application/julia",
   "name": "julia",
   "version": "1.3.1"
  }
 },
 "nbformat": 4,
 "nbformat_minor": 4
}

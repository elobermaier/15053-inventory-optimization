{
 "cells": [
  {
   "cell_type": "code",
   "execution_count": 171,
   "metadata": {},
   "outputs": [
    {
     "name": "stdout",
     "output_type": "stream",
     "text": [
      "thread = 1 warning: only found 3 / 4 columns on data row: 35. Filling remaining columns with `missing`\n"
     ]
    },
    {
     "data": {
      "text/plain": [
       "Dict{Real,Int64} with 5 entries:\n",
       "  7.5 => 2\n",
       "  25  => 1\n",
       "  0.5 => 5\n",
       "  2.5 => 3\n",
       "  1   => 4"
      ]
     },
     "execution_count": 171,
     "metadata": {},
     "output_type": "execute_result"
    }
   ],
   "source": [
    "using CSV, JuMP\n",
    "\n",
    "avg_demand = CSV.read(\"AverageDemandForecast.csv\")\n",
    "\n",
    "lb_demand = CSV.read(\"LowerBoundDemandForecast.csv\")\n",
    "\n",
    "ub_demand = CSV.read(\"UpperBoundDemandForecast.csv\")\n",
    "\n",
    "old_max_prod = CSV.read(\"MaxProductionCapacity.csv\")\n",
    "max_prod = old_max_prod[1:34,:] #clip useless last row\n",
    "\n",
    "weeks = names(avg_demand)[2:length(names(avg_demand))] #keys are Symbols not int so be careful!\n",
    "\n",
    "\"\"\"\n",
    "prod_dict maps product name (str from csv) to a dict w/keys:\n",
    "\"biweekly_replenishment\" (in pallets)\n",
    "\"prod_capac\" (pallets)\n",
    "\"units_per_pallet\" (pallets)\n",
    "\"avg_dem_week_x\" average demand on week x for x in weeks array (skips so be careful!)\n",
    "\"lb_dem_week_x\" lower bound demand forecast on week x for x in weeks array\n",
    "\"ub_dem_week_x\" upper bound demand forecast on week x for x in weeks array\n",
    "\"type\" string, what category of product\n",
    "\"late_cost\" \n",
    "\n",
    "NOTE1:\n",
    "Get lower bound demand forecast for \"Pampers Diapers\" on week 51:\n",
    ">> prod_dict[\"Pampers Diapers\"][string(\"lb_dem_week_51\")]\n",
    "\n",
    "Get lower bound demand forecast for \"Pampers Diapers\" on week x:\n",
    ">> prod_dict[\"Pampers Diapers\"][string(\"lb_dem_week_\", x)]\n",
    "\n",
    "NOTE2:\n",
    "Get late order cost for \"Aussie\":\n",
    ">> late_cost[prod_dict[\"Aussie\"][\"type\"]]\n",
    "\"\"\"\n",
    "#late order cost per unit for diff product types = 2x retail val\n",
    "late_cost = Dict(\"baby\" => 100, \"fabric\" => 40, \"family\"=> 20, \"fem\" => 15, \"grooming\" => 40, \"hair\" => 16, \"home\" => 30, \"oral\" => 90, \"PHC\" => 20, \"skin/personal\" => 80)\n",
    "\n",
    "prod_dict = Dict(max_prod[k,1] => Dict(\"biweekly_replenishment\" => max_prod[k,2], \"prod_capac\" => max_prod[k,3], \"units_per_pallet\" => max_prod[k, 4], \"type\" => \"\") for k in 1:length(max_prod[:,1]))\n",
    "\n",
    "for i in 1:length(max_prod[:,1])\n",
    "    prodname = max_prod[i,1]\n",
    "    for j in weeks\n",
    "        prod_dict[prodname][string(\"avg_dem_week_\", j)] = avg_demand[i,j]\n",
    "        prod_dict[prodname][string(\"lb_dem_week_\", j)] = lb_demand[i,j]\n",
    "        prod_dict[prodname][string(\"ub_dem_week_\", j)] = ub_demand[i,j]\n",
    "        if i in 1:2\n",
    "            prod_dict[prodname][\"type\"] = \"baby\"\n",
    "        elseif i in 3:6\n",
    "            prod_dict[prodname][\"type\"] = \"fabric\"\n",
    "        elseif i in 7:9\n",
    "            prod_dict[prodname][\"type\"] = \"family\"\n",
    "        elseif i in 10:11\n",
    "            prod_dict[prodname][\"type\"] = \"fem\"\n",
    "        elseif i in 12:15\n",
    "            prod_dict[prodname][\"type\"] = \"grooming\"\n",
    "        elseif i in 16:19\n",
    "            prod_dict[prodname][\"type\"] = \"hair\"\n",
    "        elseif i in 20:24\n",
    "            prod_dict[prodname][\"type\"] = \"home\"\n",
    "        elseif i in 25:28\n",
    "            prod_dict[prodname][\"type\"] = \"oral\"\n",
    "        elseif i in 29:30\n",
    "            prod_dict[prodname][\"type\"] = \"PHC\"\n",
    "        elseif i in 31:34\n",
    "            prod_dict[prodname][\"type\"] = \"skin/personal\"\n",
    "        end\n",
    "        prod_dict[prodname][\"late_cost\"] = late_cost[prod_dict[prodname][\"type\"]]\n",
    "    end\n",
    "end\n",
    "\n",
    "#inventory cost (units per day)\n",
    "inv_cost = 0.5\n",
    "\n",
    "#max capacity of distrib center (pallets)\n",
    "distrib_max = 7200\n",
    "\n",
    "#production costs to weeks notice\n",
    "prod_cost = Dict(0.5 => 5, 1 => 4, 2.50 => 3, 7.50 => 2, 25 => 1)\n"
   ]
  },
  {
   "cell_type": "code",
   "execution_count": null,
   "metadata": {},
   "outputs": [],
   "source": []
  },
  {
   "cell_type": "code",
   "execution_count": null,
   "metadata": {},
   "outputs": [],
   "source": []
  }
 ],
 "metadata": {
  "kernelspec": {
   "display_name": "Julia 1.3.1",
   "language": "julia",
   "name": "julia-1.3"
  },
  "language_info": {
   "file_extension": ".jl",
   "mimetype": "application/julia",
   "name": "julia",
   "version": "1.3.1"
  }
 },
 "nbformat": 4,
 "nbformat_minor": 4
}

{
 "cells": [
  {
   "cell_type": "code",
   "execution_count": 2,
   "metadata": {},
   "outputs": [
    {
     "name": "stdout",
     "output_type": "stream",
     "text": [
      "thread = 1 warning: only found 3 / 4 columns on data row: 35. Filling remaining columns with `missing`\n"
     ]
    },
    {
     "data": {
      "text/plain": [
       "1000000"
      ]
     },
     "execution_count": 2,
     "metadata": {},
     "output_type": "execute_result"
    }
   ],
   "source": [
    "using CSV, JuMP\n",
    "\n",
    "avg_demand = CSV.read(\"AverageDemandForecast.csv\")\n",
    "\n",
    "lb_demand = CSV.read(\"LowerBoundDemandForecast.csv\")\n",
    "\n",
    "ub_demand = CSV.read(\"UpperBoundDemandForecast.csv\")\n",
    "\n",
    "old_max_prod = CSV.read(\"MaxProductionCapacity.csv\")\n",
    "max_prod = old_max_prod[1:34,:] #clip useless last row\n",
    "\n",
    "weeks = names(avg_demand)[2:length(names(avg_demand))] #keys are Symbols not int so be careful!\n",
    "\n",
    "\"\"\"\n",
    "prod_dict maps product name (str from csv) to a dict w/keys:\n",
    "\"biweekly_replenishment\" (in pallets)\n",
    "\"prod_capac\" (pallets)\n",
    "\"units_per_pallet\" (pallets)\n",
    "\"avg_dem_week_x\" average demand on week x for x in weeks array (skips so be careful!)\n",
    "\"lb_dem_week_x\" lower bound demand forecast on week x for x in weeks array\n",
    "\"ub_dem_week_x\" upper bound demand forecast on week x for x in weeks array\n",
    "\"type\" string, what category of product\n",
    "\"late_cost\", late cost per unit of a certain product (dependent on its category)\n",
    "\n",
    "NOTE1:\n",
    "Get lower bound demand forecast for \"Pampers Diapers\" on week 51:\n",
    ">> prod_dict[\"Pampers Diapers\"][string(\"lb_dem_week_51\")]\n",
    "\n",
    "Get lower bound demand forecast for \"Pampers Diapers\" on week x:\n",
    ">> prod_dict[\"Pampers Diapers\"][string(\"lb_dem_week_\", x)]\n",
    "\"\"\"\n",
    "#late order cost per unit for diff product types = 2x retail val\n",
    "late_cost = Dict(\"baby\" => 100, \"fabric\" => 40, \"family\"=> 20, \"fem\" => 15, \"grooming\" => 40, \"hair\" => 16, \"home\" => 30, \"oral\" => 90, \"PHC\" => 20, \"skin/personal\" => 80)\n",
    "\n",
    "prod_dict = Dict(max_prod[k,1] => Dict(\"biweekly_replenishment\" => max_prod[k,2], \"prod_capac\" => max_prod[k,3], \"units_per_pallet\" => max_prod[k, 4], \"type\" => \"\") for k in 1:length(max_prod[:,1]))\n",
    "\n",
    "for i in 1:length(max_prod[:,1])\n",
    "    prodname = max_prod[i,1]\n",
    "    for j in weeks\n",
    "        prod_dict[prodname][string(\"avg_dem_week_\", j)] = avg_demand[i,j]\n",
    "        prod_dict[prodname][string(\"lb_dem_week_\", j)] = lb_demand[i,j]\n",
    "        prod_dict[prodname][string(\"ub_dem_week_\", j)] = ub_demand[i,j]\n",
    "        if i in 1:2\n",
    "            prod_dict[prodname][\"type\"] = \"baby\"\n",
    "        elseif i in 3:6\n",
    "            prod_dict[prodname][\"type\"] = \"fabric\"\n",
    "        elseif i in 7:9\n",
    "            prod_dict[prodname][\"type\"] = \"family\"\n",
    "        elseif i in 10:11\n",
    "            prod_dict[prodname][\"type\"] = \"fem\"\n",
    "        elseif i in 12:15\n",
    "            prod_dict[prodname][\"type\"] = \"grooming\"\n",
    "        elseif i in 16:19\n",
    "            prod_dict[prodname][\"type\"] = \"hair\"\n",
    "        elseif i in 20:24\n",
    "            prod_dict[prodname][\"type\"] = \"home\"\n",
    "        elseif i in 25:28\n",
    "            prod_dict[prodname][\"type\"] = \"oral\"\n",
    "        elseif i in 29:30\n",
    "            prod_dict[prodname][\"type\"] = \"PHC\"\n",
    "        elseif i in 31:34\n",
    "            prod_dict[prodname][\"type\"] = \"skin/personal\"\n",
    "        end\n",
    "        prod_dict[prodname][\"late_cost\"] = late_cost[prod_dict[prodname][\"type\"]]\n",
    "    end\n",
    "end\n",
    "\n",
    "#inventory cost (units per day)\n",
    "inv_cost = 0.5\n",
    "\n",
    "#max capacity of distrib center (pallets)\n",
    "distrib_max = 7200\n",
    "\n",
    "#production costs to weeks notice\n",
    "prod_notice = [1, 2, 3, 4, 5]\n",
    "prod_cost = Dict(0.5 => 5, 1 => 4, 2.50 => 3, 7.50 => 2, 25 => 1)\n",
    "\n",
    "infinity = 1000000\n"
   ]
  },
  {
   "cell_type": "code",
   "execution_count": 3,
   "metadata": {},
   "outputs": [
    {
     "name": "stdout",
     "output_type": "stream",
     "text": [
      "63952\n"
     ]
    }
   ],
   "source": [
    "println(prod_dict[\"Downy Fabric Softener\"][\"avg_dem_week_1\"])"
   ]
  },
  {
   "cell_type": "code",
   "execution_count": 4,
   "metadata": {},
   "outputs": [
    {
     "ename": "KeyError",
     "evalue": "KeyError: key \"avg_dem_week_2\" not found",
     "output_type": "error",
     "traceback": [
      "KeyError: key \"avg_dem_week_2\" not found",
      "",
      "Stacktrace:",
      " [1] getindex(::Dict{String,Any}, ::String) at ./dict.jl:477",
      " [2] top-level scope at In[4]:1"
     ]
    }
   ],
   "source": [
    "println(prod_dict[\"Downy Fabric Softener\"][\"avg_dem_week_2\"])\n",
    "#need to figure out why don't have avg demand for week 2"
   ]
  },
  {
   "cell_type": "code",
   "execution_count": 5,
   "metadata": {},
   "outputs": [
    {
     "name": "stdout",
     "output_type": "stream",
     "text": [
      "38904\n"
     ]
    }
   ],
   "source": [
    "println(prod_dict[\"Pampers Diapers\"][\"avg_dem_week_1\"])"
   ]
  },
  {
   "cell_type": "code",
   "execution_count": 6,
   "metadata": {},
   "outputs": [
    {
     "ename": "KeyError",
     "evalue": "KeyError: key \"avg_dem_week_2\" not found",
     "output_type": "error",
     "traceback": [
      "KeyError: key \"avg_dem_week_2\" not found",
      "",
      "Stacktrace:",
      " [1] getindex(::Dict{String,Any}, ::String) at ./dict.jl:477",
      " [2] top-level scope at In[6]:1"
     ]
    }
   ],
   "source": [
    "println(prod_dict[\"Pampers Diapers\"][\"avg_dem_week_2\"])"
   ]
  },
  {
   "cell_type": "code",
   "execution_count": 11,
   "metadata": {},
   "outputs": [
    {
     "name": "stdout",
     "output_type": "stream",
     "text": [
      "Pampers Diapers\n",
      "38904\n",
      "26804\n",
      "30930\n",
      "43017\n"
     ]
    }
   ],
   "source": [
    "println(avg_demand[1,1])\n",
    "println(avg_demand[1,2])\n",
    "println(avg_demand[1,3])\n",
    "println(avg_demand[1,4])\n",
    "println(avg_demand[1,5])"
   ]
  },
  {
   "cell_type": "code",
   "execution_count": 2,
   "metadata": {},
   "outputs": [
    {
     "name": "stderr",
     "output_type": "stream",
     "text": [
      "┌ Info: Precompiling Cbc [9961bab8-2fa3-5c5a-9d89-47fab24efd76]\n",
      "└ @ Base loading.jl:1273\n"
     ]
    },
    {
     "ename": "KeyError",
     "evalue": "KeyError: key \"avg_dem_week_2\" not found",
     "output_type": "error",
     "traceback": [
      "KeyError: key \"avg_dem_week_2\" not found",
      "",
      "Stacktrace:",
      " [1] getindex(::Dict{String,Any}, ::String) at ./dict.jl:477",
      " [2] top-level scope at ./In[2]:60"
     ]
    }
   ],
   "source": [
    "#copied from optimizer file\n",
    "using CSV, JuMP, Cbc\n",
    "\n",
    "m = Model(with_optimizer(Cbc.Optimizer, logLevel = 0))\n",
    "\n",
    "@variable(m, x[1:34, 1:51, 1:5] >= 0, Int) #x[i, j, k] order of item i during week j with k weeks notice\n",
    "\n",
    "@expression(m, received[1:34, 1:51], 0) #received[j, k] how many units of product j will we receive on week k\n",
    "\n",
    "for prod_idx in 1:length(max_prod[:,1])\n",
    "    prodname = max_prod[prod_idx,1]\n",
    "    for week in 1:51\n",
    "        \n",
    "        #extra orders\n",
    "        sm = 0\n",
    "        for week_rush in 1:5\n",
    "            if week > week_rush\n",
    "                sm = sm + x[prod_idx, week - week_rush, week_rush]\n",
    "            end\n",
    "        end\n",
    "        \n",
    "        #biweekly_replenishment\n",
    "        value = 0\n",
    "        if week % 2 == 1\n",
    "            value = prod_dict[prodname][\"biweekly_replenishment\"]\n",
    "        end\n",
    "        JuMP.add_to_expression!(received[prod_idx, week], (sm + value) * prod_dict[prodname][\"units_per_pallet\"])\n",
    "    end\n",
    "end\n",
    "\n",
    "#cannot order more than production capacity\n",
    "for prod_idx in 1:length(max_prod[:,1])\n",
    "    prodname = max_prod[prod_idx,1]\n",
    "    for week in 1:51\n",
    "        for week_rush in 1:5\n",
    "            @constraint(m, x[prod_idx, week, week_rush] <= prod_dict[prodname][\"prod_capac\"])\n",
    "        end\n",
    "    end\n",
    "end\n",
    "\n",
    "@variable(m, satisfy[1:34, 1:51], Bin)#satisfy[i, j] do we satisfy the average demand of product i on week j\n",
    "\n",
    "@expression(m, left[1:34, 1:51], 0)\n",
    "\"\"\"\n",
    "left[i, j] is leftovers from item i after week j \n",
    "left[i, j] should be positive if we satisfy the week'j average demand of product i\n",
    "and 0 otherwise\n",
    "<=>\n",
    "left[i, j] = received[i, j] + left[i, j - 1] - prod_dict[i][\"avg_dem_week_j\"]\n",
    "0 <= left[i, j] <= satisfy[i, j] * infinity\n",
    "\"\"\"\n",
    "\n",
    "for prod_idx in 1:length(max_prod[:,1])\n",
    "    prodname = max_prod[prod_idx,1]\n",
    "    for week in 1:51\n",
    "        left_from_last_week = 0\n",
    "        if week > 1\n",
    "            left_from_last_week = left[prod_idx, week - 1]\n",
    "        end\n",
    "        JuMP.add_to_expression!(left[prod_idx, week], received[prod_idx, week] + left_from_last_week - prod_dict[prodname][string(\"avg_dem_week_\", week)])\n",
    "        @constraint(m, left[prod_idx, week] >= 0)\n",
    "        @constraint(m, left[prod_idx, week] <= satisfy[prod_idx, week] * infinity)\n",
    "    end\n",
    "end\n",
    "\n",
    "@expression(m, failure[1:34, 1:51], 0)\n",
    "\"\"\"\n",
    "failure[i, j] is how many orders did we fail to fullfil from item i on week j\n",
    "failure[i, j] should be negative if we cannot satisfy the week'j average demand of product i\n",
    "and 0 otherwise\n",
    "<=>\n",
    "failure[i, j] = received[i, j] + left[i, j - 1] - prod_dict[i][\"avg_dem_week_j\"]\n",
    "\n",
    "(1-satisfy[i, j]) * -infinity <= failure[i, j] <= 0\n",
    "\"\"\"\n",
    "\n",
    "for prod_idx in 1:length(max_prod[:,1])\n",
    "    prodname = max_prod[prod_idx,1]\n",
    "    for week in weeks\n",
    "        left_from_last_week = 0\n",
    "        if week > 1\n",
    "            left_from_last_week = left[prod_idx, week - 1]\n",
    "        end\n",
    "        JuMP.add_to_expression!(failure[prod_idx, week], received[prod_idx, week] + left_from_last_week - prod_idx[prodname][string(\"avg_dem_week_\", week)])\n",
    "        @constraint(m, failure[prod_idx, week] <= 0)\n",
    "        @constraint(m, failure[prod_idx, week] >= -(1-satisfy[prod_idx, week] * infinity)\n",
    "    end\n",
    "end\n",
    "\n",
    "#don't exceed storage capacity every week\n",
    "for week in 1:51\n",
    "    @constraint(m, sum(left[:,week]) <= distrib_max)"
   ]
  },
  {
   "cell_type": "code",
   "execution_count": null,
   "metadata": {},
   "outputs": [],
   "source": []
  }
 ],
 "metadata": {
  "kernelspec": {
   "display_name": "Julia 1.3.1",
   "language": "julia",
   "name": "julia-1.3"
  },
  "language_info": {
   "file_extension": ".jl",
   "mimetype": "application/julia",
   "name": "julia",
   "version": "1.3.1"
  }
 },
 "nbformat": 4,
 "nbformat_minor": 4
}
